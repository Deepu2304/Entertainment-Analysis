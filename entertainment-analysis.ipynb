{
 "cells": [
  {
   "cell_type": "code",
   "execution_count": null,
   "id": "b3fc1f3b",
   "metadata": {},
   "outputs": [],
   "source": [
    "import pandas as pd \n",
    "import matplotlib.pyplot as plt\n",
    "import seaborn as sns\n",
    "import os\n",
    "import plotly.express as px\n",
    "import os"
   ]
  },
  {
   "cell_type": "code",
   "execution_count": null,
   "id": "b2e983a2",
   "metadata": {},
   "outputs": [],
   "source": [
    "data_path=\"/Users/jaideepsai/Desktop/DATA-ANALYTICS/Data Source/extracted-data/Entertainment/flixpatrol.csv\"\n",
    "dataset=pd.read_csv(data_path, delimiter=',')"
   ]
  },
  {
   "cell_type": "code",
   "execution_count": null,
   "id": "b2d31001",
   "metadata": {
    "scrolled": false
   },
   "outputs": [],
   "source": [
    "dataset.head()"
   ]
  },
  {
   "cell_type": "code",
   "execution_count": null,
   "id": "f7d92fc3",
   "metadata": {},
   "outputs": [],
   "source": [
    "dataset.shape"
   ]
  },
  {
   "cell_type": "code",
   "execution_count": null,
   "id": "2c67c8a3",
   "metadata": {},
   "outputs": [],
   "source": [
    "dataset['Genre'].unique()"
   ]
  },
  {
   "cell_type": "code",
   "execution_count": null,
   "id": "4bfc8a74",
   "metadata": {},
   "outputs": [],
   "source": [
    "dataset.isnull().sum()"
   ]
  },
  {
   "cell_type": "code",
   "execution_count": null,
   "id": "937c4748",
   "metadata": {},
   "outputs": [],
   "source": [
    "dataset['Genre'].fillna(\"Unknown\", inplace=True)"
   ]
  },
  {
   "cell_type": "code",
   "execution_count": null,
   "id": "7d90975a",
   "metadata": {},
   "outputs": [],
   "source": [
    "dataset.dropna(subset=['Premiere'], inplace=True)"
   ]
  },
  {
   "cell_type": "code",
   "execution_count": null,
   "id": "38e63e70",
   "metadata": {},
   "outputs": [],
   "source": [
    "dataset.isnull().sum()"
   ]
  },
  {
   "cell_type": "code",
   "execution_count": null,
   "id": "dff99460",
   "metadata": {},
   "outputs": [],
   "source": [
    "dataset['Watchtime'] = pd.to_numeric(dataset['Watchtime'].str.replace(',', ''), errors='coerce')"
   ]
  },
  {
   "cell_type": "code",
   "execution_count": null,
   "id": "b3ffc1b4",
   "metadata": {},
   "outputs": [],
   "source": [
    "dataset.head()"
   ]
  },
  {
   "cell_type": "code",
   "execution_count": null,
   "id": "45691164",
   "metadata": {},
   "outputs": [],
   "source": [
    "dataset.dtypes"
   ]
  },
  {
   "cell_type": "code",
   "execution_count": null,
   "id": "09878dbf",
   "metadata": {},
   "outputs": [],
   "source": [
    "def find_duplicates(df, column_name):\n",
    "    duplicate_mask = df.duplicated(subset=[column_name], keep=False)\n",
    "    duplicate_rows_df = df[duplicate_mask].sort_values(by=column_name)\n",
    "    num_duplicates = duplicate_rows_df.shape[0]\n",
    "    return num_duplicates > 0, num_duplicates, duplicate_rows_df"
   ]
  },
  {
   "cell_type": "code",
   "execution_count": null,
   "id": "6be3b2a4",
   "metadata": {},
   "outputs": [],
   "source": [
    "has_duplicates, num_duplicates, duplicate_rows_df = find_duplicates(dataset, 'Title')"
   ]
  },
  {
   "cell_type": "code",
   "execution_count": null,
   "id": "3bc82eda",
   "metadata": {},
   "outputs": [],
   "source": [
    "print(has_duplicates)\n",
    "print(num_duplicates)\n",
    "duplicate_rows_df.head()"
   ]
  },
  {
   "cell_type": "code",
   "execution_count": null,
   "id": "ace013f1",
   "metadata": {},
   "outputs": [],
   "source": [
    "tv_shows_df = dataset[dataset['Type'] == 'TV Show']\n",
    "movies_df = dataset[dataset['Type'] == 'Movie']\n",
    "\n",
    "# Count the number of TV shows and movies\n",
    "tv_shows_count = len(tv_shows_df)\n",
    "movies_count = len(movies_df)\n",
    "\n",
    "# Create a bar plot\n",
    "plt.figure(figsize=(8, 6))\n",
    "plt.bar(['TV Shows', 'Movies'], [tv_shows_count, movies_count], color=['skyblue', 'salmon'])\n",
    "plt.xlabel('Type')\n",
    "plt.ylabel('Count')\n",
    "plt.title('Number of TV Shows vs Movies Over Years')\n",
    "plt.show()"
   ]
  },
  {
   "cell_type": "code",
   "execution_count": null,
   "id": "e715e34e",
   "metadata": {},
   "outputs": [],
   "source": [
    "dataset['Type'].unique()"
   ]
  },
  {
   "cell_type": "code",
   "execution_count": null,
   "id": "5176065b",
   "metadata": {},
   "outputs": [],
   "source": [
    "sorted_shows = dataset[dataset['Type'] == 'TV Show'].sort_values(by='Watchtime', ascending=False)\n",
    "top_10_shows = sorted_shows.head(5)\n",
    "fig = px.bar(top_10_shows, x='Watchtime', y='Title', orientation='h', \n",
    "             title='Top 5 TV Shows by Watchtime', \n",
    "             labels={'Watchtime': 'Watchtime', 'Title': 'TV Show Title'},\n",
    "             color='Watchtime',\n",
    "             color_continuous_scale='blues')\n",
    "fig.update_layout(width=800, height=600, yaxis={'categoryorder':'total ascending'})\n",
    "fig.show()"
   ]
  },
  {
   "cell_type": "code",
   "execution_count": null,
   "id": "e194a5bc",
   "metadata": {},
   "outputs": [],
   "source": [
    "sorted_movies = dataset[dataset['Type'] == 'Movie'].sort_values(by='Watchtime', ascending=False)\n",
    "\n",
    "# Select top 10 shows\n",
    "top_10_movies = sorted_movies.head(5)\n",
    "\n",
    "# Create an interactive bar plot using Plotly Express\n",
    "fig = px.bar(top_10_movies, x='Watchtime', y='Title', orientation='h', \n",
    "             title='Top 5 Movies by Watchtime', \n",
    "             labels={'Watchtime': 'Watchtime', 'Title': 'Movie Title'},\n",
    "             color='Watchtime',\n",
    "             color_continuous_scale='balance')\n",
    "\n",
    "# Update layout for better visualization\n",
    "fig.update_layout(width=800, height=600, yaxis={'categoryorder':'total ascending'})\n",
    "\n",
    "# Show the plot\n",
    "fig.show()"
   ]
  },
  {
   "cell_type": "code",
   "execution_count": null,
   "id": "5620f002",
   "metadata": {},
   "outputs": [],
   "source": [
    "premiere_counts = dataset['Premiere'].value_counts().reset_index()\n",
    "premiere_counts.columns = ['Year', 'Count']\n",
    "\n",
    "# Sort by year\n",
    "premiere_counts = premiere_counts.sort_values(by='Year')\n",
    "\n",
    "# Create an interactive bar plot using Plotly Express\n",
    "fig = px.bar(premiere_counts, x='Year', y='Count', \n",
    "             title='Occurrences of Premieres by Year',\n",
    "             labels={'Year': 'Premiere Year', 'Count': 'Occurrences'},\n",
    "             color='Count',\n",
    "             color_continuous_scale='amp')\n",
    "\n",
    "# Update layout for better visualization\n",
    "fig.update_layout(width=800, height=600)\n",
    "\n",
    "# Show the plot\n",
    "fig.show()"
   ]
  },
  {
   "cell_type": "code",
   "execution_count": null,
   "id": "d9cffced",
   "metadata": {
    "scrolled": false
   },
   "outputs": [],
   "source": [
    "genre_counts = dataset['Genre'].value_counts().reset_index()\n",
    "genre_counts.columns = ['Genre', 'Count']\n",
    "\n",
    "# Sort by Genre\n",
    "genre_counts = genre_counts.sort_values(by='Count')\n",
    "\n",
    "# Create an interactive bar plot using Plotly Express\n",
    "fig = px.bar(genre_counts, x='Genre', y='Count', \n",
    "             title='Occurrences of Genre',\n",
    "             labels={'Genre': 'Genre', 'Count': 'Occurrences'},\n",
    "             color='Count',\n",
    "             color_continuous_scale='blues')\n",
    "\n",
    "# Update layout for better visualization\n",
    "fig.update_layout(width=800, height=600)\n",
    "\n",
    "# Show the plot\n",
    "fig.show()"
   ]
  },
  {
   "cell_type": "code",
   "execution_count": null,
   "id": "bd61f694",
   "metadata": {},
   "outputs": [],
   "source": [
    "df_2019 = dataset[dataset['Premiere'] == 2019]\n",
    "\n",
    "# Display the first few rows of the subset DataFrame\n",
    "df_2019.head()"
   ]
  },
  {
   "cell_type": "code",
   "execution_count": null,
   "id": "4c58df98",
   "metadata": {},
   "outputs": [],
   "source": [
    "genre_counts_2019 = df_2019['Genre'].value_counts().reset_index()\n",
    "genre_counts_2019.columns = ['Genre', 'Count']\n",
    "\n",
    "# Create a sunburst chart using Plotly Express\n",
    "fig = px.sunburst(genre_counts_2019, path=['Genre'], values='Count',\n",
    "                  title='Occurrences of Genres in 2019')\n",
    "\n",
    "# Update layout for better visualization\n",
    "fig.update_layout(width=800, height=600)\n",
    "\n",
    "# Show the plot\n",
    "fig.show()"
   ]
  },
  {
   "cell_type": "code",
   "execution_count": null,
   "id": "7e0b2cbd",
   "metadata": {},
   "outputs": [],
   "source": [
    "# Calculate total count of each genre in the whole dataset\n",
    "total_genre_counts = dataset['Genre'].value_counts()\n",
    "\n",
    "# Calculate total count of each genre in the year 2019\n",
    "genre_counts_2019 = df_2019['Genre'].value_counts()\n",
    "\n",
    "# Calculate percentage for each genre in 2019 relative to the whole dataset\n",
    "genre_percentage_2019 = (genre_counts_2019 / total_genre_counts) * 100\n",
    "\n",
    "# Convert the calculated percentages to a DataFrame for visualization\n",
    "genre_percentage_df = genre_percentage_2019.reset_index()\n",
    "genre_percentage_df.columns = ['Genre', 'Percentage']\n",
    "\n",
    "# Create an interactive pie chart using Plotly Express\n",
    "fig = px.pie(genre_percentage_df, values='Percentage', names='Genre', \n",
    "             title='Percentage of Genre Counts in 2019 Relative to Whole Dataset')\n",
    "\n",
    "# Update layout for better visualization\n",
    "fig.update_layout(width=800, height=600)\n",
    "\n",
    "# Show the plot\n",
    "fig.show()"
   ]
  },
  {
   "cell_type": "code",
   "execution_count": null,
   "id": "2b65a02e",
   "metadata": {},
   "outputs": [],
   "source": [
    "# Filter DataFrame for year 2019 and separate TV shows and movies\n",
    "tv_shows_2019 = df_2019[df_2019['Type'] == 'TV Show']\n",
    "movies_2019 = df_2019[df_2019['Type'] == 'Movie']\n",
    "\n",
    "# Count the number of TV shows and movies in 2019\n",
    "tv_shows_count = len(tv_shows_2019)\n",
    "movies_count = len(movies_2019)\n",
    "\n",
    "# Create a bar plot\n",
    "plt.figure(figsize=(8, 6))\n",
    "plt.bar(['TV Shows', 'Movies'], [tv_shows_count, movies_count], color=['skyblue', 'salmon'])\n",
    "plt.xlabel('Type')\n",
    "plt.ylabel('Count')\n",
    "plt.title('Number of TV Shows vs Movies in 2019')\n",
    "plt.show()"
   ]
  },
  {
   "cell_type": "code",
   "execution_count": null,
   "id": "83621a5a",
   "metadata": {},
   "outputs": [],
   "source": [
    "# Calculate total count of each genre in the whole dataset\n",
    "total_genre_counts = dataset['Genre'].value_counts()\n",
    "\n",
    "# Calculate total count of each genre in the year 2019\n",
    "genre_counts_2019 = df_2019['Genre'].value_counts()\n",
    "\n",
    "# Calculate percentage for each genre in 2019 relative to the whole dataset\n",
    "genre_percentage_2019 = (genre_counts_2019 / total_genre_counts) * 100\n",
    "\n",
    "# Convert the calculated percentages to a DataFrame for visualization\n",
    "genre_percentage_df = genre_percentage_2019.reset_index()\n",
    "genre_percentage_df.columns = ['Genre', 'Percentage']\n",
    "\n",
    "# Create an interactive pie chart using Plotly Express\n",
    "fig = px.pie(genre_percentage_df, values='Percentage', names='Genre', \n",
    "             title='Percentage of Genre Counts in 2019 Relative to Whole Dataset')\n",
    "\n",
    "# Update layout for better visualization\n",
    "fig.update_layout(width=800, height=600)\n",
    "\n",
    "# Show the plot\n",
    "fig.show()"
   ]
  },
  {
   "cell_type": "code",
   "execution_count": null,
   "id": "7e9d5238",
   "metadata": {},
   "outputs": [],
   "source": [
    "trends_over_time = dataset.groupby('Premiere').agg({'Watchtime': 'sum', 'Title': 'count'}).rename(columns={'Title': 'Count', 'Watchtime': 'Total Watchtime'}).reset_index()\n",
    "\n",
    "# Re-plotting trends over time for total watchtime without text labels\n",
    "plt.figure(figsize=(14, 7), dpi=200)\n",
    "sns.lineplot(x='Premiere', y='Total Watchtime', data=trends_over_time, marker='o', color='teal', label='Total Watchtime')\n",
    "plt.title('Trends Over Time: Total Watchtime')\n",
    "plt.xlabel('Year')\n",
    "plt.ylabel('Total Watchtime')\n",
    "plt.grid(True)\n",
    "plt.tight_layout()\n",
    "plt.show()\n",
    "\n",
    "# Re-plotting trends over time for number of titles without text labels\n",
    "plt.figure(figsize=(14, 7),dpi=200)\n",
    "sns.lineplot(x='Premiere', y='Count', data=trends_over_time, marker='s', color='purple', label='Number of Titles')\n",
    "plt.title('Trends Over Time: Number of Titles')\n",
    "plt.xlabel('Year')\n",
    "plt.ylabel('Number of Titles')\n",
    "plt.grid(True)\n",
    "plt.tight_layout()\n",
    "plt.show()"
   ]
  },
  {
   "cell_type": "code",
   "execution_count": null,
   "id": "c184ddf4",
   "metadata": {},
   "outputs": [],
   "source": [
    "genre_popularity = dataset.groupby('Genre').agg({'Watchtime': 'sum', 'Title': 'count'}).rename(columns={'Title': 'Count', 'Watchtime': 'Total Watchtime'}).reset_index()\n",
    "\n",
    "genre_yearly_data = dataset.groupby(['Genre', 'Premiere']).agg({'Watchtime': 'sum', 'Title': 'count'}).reset_index()\n",
    "genre_popularity_sorted = genre_popularity.sort_values(by='Total Watchtime', ascending=False)\n",
    "# Setting up the plot\n",
    "plt.figure(figsize=(14, 10), dpi=200)\n",
    "\n",
    "# Choosing a subset of genres for clearer visualization\n",
    "top_genres = genre_popularity_sorted.head(5)['Genre']  # Using the top 5 genres based on total watchtime for simplicity\n",
    "\n",
    "for genre in top_genres:\n",
    "    genre_data = genre_yearly_data[genre_yearly_data['Genre'] == genre]\n",
    "    plt.plot(genre_data['Premiere'], genre_data['Watchtime'], marker='o', label=genre)\n",
    "\n",
    "plt.title('Watchtime Trends by Genre Over Time')\n",
    "plt.xlabel('Year')\n",
    "plt.ylabel('Total Watchtime')\n",
    "plt.legend()\n",
    "plt.grid(True)\n",
    "plt.tight_layout()\n",
    "\n",
    "plt.show()\n",
    "\n",
    "plt.figure(figsize=(14, 10), dpi=200)\n",
    "\n",
    "for genre in top_genres:\n",
    "    genre_data = genre_yearly_data[genre_yearly_data['Genre'] == genre]\n",
    "    plt.plot(genre_data['Premiere'], genre_data['Title'], marker='s', label=genre)\n",
    "\n",
    "plt.title('Number of Titles by Genre Over Time')\n",
    "plt.xlabel('Year')\n",
    "plt.ylabel('Number of Titles')\n",
    "plt.legend()\n",
    "plt.grid(True)\n",
    "plt.tight_layout()\n",
    "\n",
    "plt.show()"
   ]
  },
  {
   "cell_type": "code",
   "execution_count": null,
   "id": "f07190d5",
   "metadata": {},
   "outputs": [],
   "source": []
  }
 ],
 "metadata": {
  "kernelspec": {
   "display_name": "Python 3 (ipykernel)",
   "language": "python",
   "name": "python3"
  },
  "language_info": {
   "codemirror_mode": {
    "name": "ipython",
    "version": 3
   },
   "file_extension": ".py",
   "mimetype": "text/x-python",
   "name": "python",
   "nbconvert_exporter": "python",
   "pygments_lexer": "ipython3",
   "version": "3.11.5"
  }
 },
 "nbformat": 4,
 "nbformat_minor": 5
}
